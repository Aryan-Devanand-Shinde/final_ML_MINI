{
 "cells": [
  {
   "cell_type": "code",
   "execution_count": 1,
   "id": "54b2ac05-6b5c-4e62-9f11-647ff44a95ac",
   "metadata": {},
   "outputs": [],
   "source": [
    "import pickle\n",
    "import numpy as np\n",
    "import requests\n",
    "import json\n",
    "import geocoder\n",
    "from requests.exceptions import RequestException\n"
   ]
  },
  {
   "cell_type": "code",
   "execution_count": 2,
   "id": "fea6d21a-10ec-4c5e-a506-80fdda7e1a34",
   "metadata": {
    "scrolled": true
   },
   "outputs": [
    {
     "name": "stdin",
     "output_type": "stream",
     "text": [
      "📍 Do you want to use your current location? (y/n):  y\n"
     ]
    },
    {
     "name": "stdout",
     "output_type": "stream",
     "text": [
      "✅ Auto-detected Location: Pune, IN\n",
      "📍 Using Coordinates: Latitude=18.5196, Longitude=73.8554\n"
     ]
    }
   ],
   "source": [
    "# Get Coordinates (Auto or Manual)\n",
    "def get_coordinates():\n",
    "    choice = input(\"📍 Do you want to use your current location? (y/n): \").strip().lower()\n",
    "    if choice == 'y':\n",
    "        try:\n",
    "            g = geocoder.ip('me')\n",
    "            if g.ok:\n",
    "                print(f\"✅ Auto-detected Location: {g.city}, {g.country}\")\n",
    "                return g.latlng  # returns [lat, lon]\n",
    "            else:\n",
    "                print(\"⚠️ Could not detect location, please enter manually.\")\n",
    "        except Exception as e:\n",
    "            print(f\"⚠️ Error detecting location: {e}\")\n",
    "    \n",
    "    # Manual input fallback\n",
    "    lat = float(input(\"Enter Latitude: \"))\n",
    "    lon = float(input(\"Enter Longitude: \"))\n",
    "    return [lat, lon]\n",
    "\n",
    "lat, lon = get_coordinates()\n",
    "print(f\"📍 Using Coordinates: Latitude={lat}, Longitude={lon}\")"
   ]
  },
  {
   "cell_type": "code",
   "execution_count": 3,
   "id": "6c2b5213-6b02-4e7b-91f9-9967d645a300",
   "metadata": {},
   "outputs": [
    {
     "name": "stdout",
     "output_type": "stream",
     "text": [
      "✅ LightGBM model loaded successfully.\n"
     ]
    }
   ],
   "source": [
    "# Load LightGBM model\n",
    "with open(\"lightgbm_model.pkl\", \"rb\") as f:\n",
    "    model = pickle.load(f)\n",
    "print(\"✅ LightGBM model loaded successfully.\")"
   ]
  },
  {
   "cell_type": "code",
   "execution_count": 8,
   "id": "e3b560ee-34cd-409a-9eb3-347422527dbf",
   "metadata": {},
   "outputs": [
    {
     "name": "stdout",
     "output_type": "stream",
     "text": [
      "\n",
      "🌦 Weather Data:\n",
      "{\n",
      "    \"temperature\": 23.89,\n",
      "    \"humidity\": 83,\n",
      "    \"rainfall\": 0\n",
      "}\n"
     ]
    }
   ],
   "source": [
    "# Fetch weather data (OpenWeather API)\n",
    "API_KEY = \"a280709224ba06033d34ab269232abad\"\n",
    "current_url = f\"https://api.openweathermap.org/data/2.5/weather?lat={lat}&lon={lon}&appid={API_KEY}&units=metric\"\n",
    "current_resp = requests.get(current_url).json()\n",
    "\n",
    "if \"main\" not in current_resp:\n",
    "    raise Exception(\"⚠️ Error fetching weather data. Check API key or connection.\")\n",
    "\n",
    "weather = {\n",
    "    \"temperature\": current_resp[\"main\"][\"temp\"],\n",
    "    \"humidity\": current_resp[\"main\"][\"humidity\"],\n",
    "    \"rainfall\": current_resp.get(\"rain\", {}).get(\"1h\", 0)\n",
    "\n",
    "}\n",
    "\n",
    "print(\"\\n🌦 Weather Data:\")\n",
    "print(json.dumps(weather, indent=4))"
   ]
  },
  {
   "cell_type": "code",
   "execution_count": 9,
   "id": "e5c67117-5722-45a1-bad6-c8bba62b4553",
   "metadata": {},
   "outputs": [
    {
     "name": "stdout",
     "output_type": "stream",
     "text": [
      "\n",
      "🧩 Features used for suitability (weather only):\n",
      "{\n",
      "    \"temperature\": 23.89,\n",
      "    \"humidity\": 83,\n",
      "    \"rainfall\": 0\n",
      "}\n"
     ]
    }
   ],
   "source": [
    "# Prepare features (weather only)\n",
    "features = {\n",
    "    \"temperature\": weather[\"temperature\"],\n",
    "    \"humidity\": weather[\"humidity\"],\n",
    "    \"rainfall\": weather[\"rainfall\"]\n",
    "}\n",
    "\n",
    "print(\"\\n🧩 Features used for suitability (weather only):\")\n",
    "print(json.dumps(features, indent=4))"
   ]
  },
  {
   "cell_type": "code",
   "execution_count": 10,
   "id": "a168ff5e-f507-4260-9c0c-62b368d85071",
   "metadata": {},
   "outputs": [
    {
     "name": "stdout",
     "output_type": "stream",
     "text": [
      "\n",
      "🌱 Soil Data:\n",
      "{\n",
      "    \"Soil Moisture\": 0.443,\n",
      "    \"Soil Temp\": 23.3,\n",
      "    \"N\": 110.75,\n",
      "    \"P\": 116.5,\n",
      "    \"K\": 132.9,\n",
      "    \"pH\": 6.47\n",
      "}\n"
     ]
    }
   ],
   "source": [
    "# Fetch soil data (Open-Meteo API)\n",
    "def get_soil_data(lat, lon):\n",
    "    base = \"https://api.open-meteo.com/v1/forecast\"\n",
    "    params = {\n",
    "        \"latitude\": lat,\n",
    "        \"longitude\": lon,\n",
    "        \"hourly\": \"soil_temperature_0cm,soil_moisture_0_to_1cm\",\n",
    "        \"temperature_unit\": \"celsius\",\n",
    "        \"timezone\": \"auto\",\n",
    "        \"forecast_days\": 1\n",
    "    }\n",
    "    try:\n",
    "        r = requests.get(base, params=params, timeout=20)\n",
    "        r.raise_for_status()\n",
    "        data = r.json()\n",
    "    except RequestException as e:\n",
    "        raise RuntimeError(f\"❌ Open-Meteo API Request Failed: {e}\")\n",
    "\n",
    "    hourly = data.get(\"hourly\", {})\n",
    "    if not hourly.get(\"time\"):\n",
    "        raise RuntimeError(\"❌ No soil data found.\")\n",
    "\n",
    "    soil_temp = hourly[\"soil_temperature_0cm\"][0]\n",
    "    soil_moist = hourly[\"soil_moisture_0_to_1cm\"][0]\n",
    "\n",
    "    if soil_temp is None or soil_moist is None:\n",
    "        raise RuntimeError(\"❌ Soil data incomplete.\")\n",
    "\n",
    "    # Approximate NPK + pH\n",
    "    soil_chem = {\n",
    "        \"N\": round(soil_moist * 250, 2),\n",
    "        \"P\": round(soil_temp * 5, 2),\n",
    "        \"K\": round(soil_moist * 300, 2),\n",
    "        \"pH\": round(6.5 + (soil_temp - 25) * 0.02, 2)\n",
    "    }\n",
    "\n",
    "    soil_data = {\n",
    "        \"Soil Moisture\": soil_moist,\n",
    "        \"Soil Temp\": soil_temp,\n",
    "        **soil_chem\n",
    "    }\n",
    "    return soil_data\n",
    "\n",
    "soil = get_soil_data(lat, lon)\n",
    "print(\"\\n🌱 Soil Data:\")\n",
    "print(json.dumps(soil, indent=4))"
   ]
  },
  {
   "cell_type": "code",
   "execution_count": 11,
   "id": "7ab5ae72-aa5c-4743-8f5f-5609e015e788",
   "metadata": {},
   "outputs": [
    {
     "name": "stderr",
     "output_type": "stream",
     "text": [
      "C:\\Users\\shind\\AppData\\Local\\Programs\\Python\\Python313\\Lib\\site-packages\\sklearn\\utils\\deprecation.py:132: FutureWarning: 'force_all_finite' was renamed to 'ensure_all_finite' in 1.6 and will be removed in 1.8.\n",
      "  warnings.warn(\n"
     ]
    },
    {
     "name": "stdout",
     "output_type": "stream",
     "text": [
      "\n",
      "🌾 Model Prediction (Crop Name):\n",
      "✅ Recommended Crop: muskmelon\n"
     ]
    }
   ],
   "source": [
    "# Predict crop using model\n",
    "# Note: Model input may require all features (N, P, K, pH, etc.)\n",
    "# Here we skip it for logical weather-based recommendation\n",
    "# So model prediction can still be used for reference, but feasibility will use weather only\n",
    "\n",
    "# Convert to array (dummy NPK=0 for model if required)\n",
    "X_input = np.array([[0, 0, 0, features[\"temperature\"], features[\"humidity\"], 0, features[\"rainfall\"]]])\n",
    "prediction = model.predict(X_input)\n",
    "\n",
    "with open(\"label_encoder.pkl\", \"rb\") as f:\n",
    "    le = pickle.load(f)\n",
    "\n",
    "prediction_crop = le.inverse_transform(prediction)[0]\n",
    "print(\"\\n🌾 Model Prediction (Crop Name):\")\n",
    "print(\"✅ Recommended Crop:\", prediction_crop)\n"
   ]
  },
  {
   "cell_type": "code",
   "execution_count": 12,
   "id": "de1f33d8-beae-4e4c-b4ea-3467b31bb24e",
   "metadata": {},
   "outputs": [],
   "source": [
    "# Crop Requirements (weather only thresholds)\n",
    "crop_requirements = {\n",
    "    \"rice\": {\"temperature\": (20, 35), \"humidity\": (70, 90), \"rainfall\": (150, 300)},\n",
    "    \"maize\": {\"temperature\": (18, 30), \"humidity\": (50, 80), \"rainfall\": (80, 150)},\n",
    "    \"chickpea\": {\"temperature\": (10, 30), \"humidity\": (40, 60), \"rainfall\": (50, 100)},\n",
    "    \"kidneybeans\": {\"temperature\": (15, 30), \"humidity\": (50, 70), \"rainfall\": (60, 120)},\n",
    "    \"blackgram\": {\"temperature\": (20, 35), \"humidity\": (50, 70), \"rainfall\": (50, 100)},\n",
    "    \"lentil\": {\"temperature\": (10, 30), \"humidity\": (40, 60), \"rainfall\": (40, 80)},\n",
    "    \"mungbean\": {\"temperature\": (25, 35), \"humidity\": (50, 70), \"rainfall\": (50, 100)},\n",
    "    \"mothbeans\": {\"temperature\": (25, 40), \"humidity\": (20, 50), \"rainfall\": (20, 60)},\n",
    "    \"pigeonpeas\": {\"temperature\": (20, 35), \"humidity\": (50, 70), \"rainfall\": (50, 120)},\n",
    "    \"cotton\": {\"temperature\": (25, 35), \"humidity\": (50, 80), \"rainfall\": (50, 150)},\n",
    "    \"jute\": {\"temperature\": (20, 35), \"humidity\": (70, 90), \"rainfall\": (150, 250)},\n",
    "    \"coffee\": {\"temperature\": (20, 30), \"humidity\": (60, 90), \"rainfall\": (150, 250)},\n",
    "    \"coconut\": {\"temperature\": (25, 35), \"humidity\": (70, 90), \"rainfall\": (150, 250)},\n",
    "    \"banana\": {\"temperature\": (25, 30), \"humidity\": (70, 90), \"rainfall\": (100, 200)},\n",
    "    \"grapes\": {\"temperature\": (20, 30), \"humidity\": (50, 70), \"rainfall\": (40, 100)},\n",
    "    \"mango\": {\"temperature\": (24, 35), \"humidity\": (50, 70), \"rainfall\": (50, 150)},\n",
    "    \"orange\": {\"temperature\": (20, 30), \"humidity\": (50, 70), \"rainfall\": (60, 120)},\n",
    "    \"papaya\": {\"temperature\": (25, 35), \"humidity\": (60, 80), \"rainfall\": (80, 150)},\n",
    "    \"pomegranate\": {\"temperature\": (25, 35), \"humidity\": (50, 70), \"rainfall\": (50, 100)},\n",
    "    \"muskmelon\": {\"temperature\": (24, 32), \"humidity\": (50, 70), \"rainfall\": (50, 100)},\n",
    "    \"watermelon\": {\"temperature\": (25, 35), \"humidity\": (50, 70), \"rainfall\": (50, 100)}\n",
    "}\n"
   ]
  },
  {
   "cell_type": "code",
   "execution_count": 13,
   "id": "18e6ec82-4c50-4278-baa2-80d63984af1b",
   "metadata": {},
   "outputs": [],
   "source": [
    "# Feasibility Check & Scoring\n",
    "def crop_suitability_score(crop, features):\n",
    "    req = crop_requirements.get(crop)\n",
    "    if not req:\n",
    "        return 0\n",
    "    total = 0\n",
    "    matched = 0\n",
    "    for key, (low, high) in req.items():\n",
    "        if key in features:\n",
    "            total += 1\n",
    "            if low <= features[key] <= high:\n",
    "                matched += 1\n",
    "    if total == 0:\n",
    "        return 0\n",
    "    return matched / total\n",
    "\n",
    "scores = {crop: crop_suitability_score(crop, features) for crop in crop_requirements}\n",
    "\n",
    "fully_suitable = [crop for crop, score in scores.items() if score == 1.0]\n",
    "partially_suitable = sorted([(crop, score) for crop, score in scores.items() if 0 < score < 1.0],\n",
    "                            key=lambda x: x[1], reverse=True)\n"
   ]
  },
  {
   "cell_type": "code",
   "execution_count": 14,
   "id": "e48801fb-bf01-4042-8ce4-74db18c58a2a",
   "metadata": {},
   "outputs": [
    {
     "name": "stdout",
     "output_type": "stream",
     "text": [
      "\n",
      "⚠️ No crops fully match current conditions.\n",
      "\n",
      "⚠️ Predicted crop 'muskmelon'.\n",
      "You can See other similar crop could be yied according to weather. Choose wisely\n",
      "\n",
      "🌱 Partially Suitable Crops (ranked):\n",
      "⚠️ rice — 67% conditions met\n",
      "⚠️ jute — 67% conditions met\n",
      "⚠️ coffee — 67% conditions met\n",
      "⚠️ maize — 33% conditions met\n",
      "⚠️ chickpea — 33% conditions met\n",
      "⚠️ kidneybeans — 33% conditions met\n",
      "⚠️ blackgram — 33% conditions met\n",
      "⚠️ lentil — 33% conditions met\n",
      "⚠️ pigeonpeas — 33% conditions met\n",
      "⚠️ coconut — 33% conditions met\n",
      "⚠️ banana — 33% conditions met\n",
      "⚠️ grapes — 33% conditions met\n",
      "⚠️ orange — 33% conditions met\n"
     ]
    }
   ],
   "source": [
    "# Print Recommendations\n",
    "if fully_suitable:\n",
    "    print(\"\\n🌾 Fully Suitable Crops:\")\n",
    "    print(\"✅\", \", \".join(fully_suitable))\n",
    "else:\n",
    "    print(\"\\n⚠️ No crops fully match current conditions.\")\n",
    "\n",
    "# Check Model Prediction Feasibility\n",
    "if scores.get(prediction_crop, 0) == 1.0:\n",
    "    print(f\"\\n🌾 Final Recommendation: ✅ {prediction_crop} is fully suitable!\")\n",
    "else:\n",
    "    print(f\"\\n⚠️ Predicted crop '{prediction_crop}'.\")\n",
    "    print(\"You can See other similar crop could be yied according to weather. Choose wisely\")\n",
    "\n",
    "if partially_suitable:\n",
    "    print(\"\\n🌱 Partially Suitable Crops (ranked):\")\n",
    "    for crop, score in partially_suitable:\n",
    "        print(f\"⚠️ {crop} — {score*100:.0f}% conditions met\")\n",
    "\n",
    "\n"
   ]
  },
  {
   "cell_type": "code",
   "execution_count": null,
   "id": "96f6db3b-3973-4f43-8cb5-f4bb65555e5d",
   "metadata": {},
   "outputs": [],
   "source": []
  },
  {
   "cell_type": "code",
   "execution_count": null,
   "id": "04c41622-695c-41b8-89ce-3a2cf6a76e48",
   "metadata": {},
   "outputs": [],
   "source": []
  }
 ],
 "metadata": {
  "kernelspec": {
   "display_name": "Python 3 (ipykernel)",
   "language": "python",
   "name": "python3"
  },
  "language_info": {
   "codemirror_mode": {
    "name": "ipython",
    "version": 3
   },
   "file_extension": ".py",
   "mimetype": "text/x-python",
   "name": "python",
   "nbconvert_exporter": "python",
   "pygments_lexer": "ipython3",
   "version": "3.13.7"
  }
 },
 "nbformat": 4,
 "nbformat_minor": 5
}
