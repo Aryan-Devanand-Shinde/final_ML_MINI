{
 "cells": [
  {
   "cell_type": "code",
   "execution_count": 6,
   "id": "a3e53b7f-60fa-45a6-a452-6bd57ecdf99c",
   "metadata": {},
   "outputs": [],
   "source": [
    "import pickle\n",
    "import numpy as np\n",
    "import requests\n",
    "import json\n",
    "import geocoder\n",
    "from requests.exceptions import RequestException\n"
   ]
  },
  {
   "cell_type": "code",
   "execution_count": 7,
   "id": "4042e500-4564-47aa-aa03-527b8b9249c7",
   "metadata": {},
   "outputs": [
    {
     "name": "stdout",
     "output_type": "stream",
     "text": [
      "✅ LightGBM model loaded successfully.\n"
     ]
    }
   ],
   "source": [
    "# Load LightGBM model\n",
    "with open(\"newtry_random_forest_model.pkl\", \"rb\") as f:\n",
    "    model = pickle.load(f)\n",
    "print(\"✅ LightGBM model loaded successfully.\")"
   ]
  },
  {
   "cell_type": "code",
   "execution_count": 27,
   "id": "9b90d732-cd4b-4829-9f20-a2dd7faae6b6",
   "metadata": {},
   "outputs": [],
   "source": [
    "lat, lon = 18.5204, 73.8567"
   ]
  },
  {
   "cell_type": "code",
   "execution_count": 29,
   "id": "4144c42a-e060-4b7d-84dc-66db3533ccaf",
   "metadata": {},
   "outputs": [
    {
     "name": "stdout",
     "output_type": "stream",
     "text": [
      "\n",
      "🌦 Weather Data:\n",
      "{\n",
      "    \"temperature\": 22.79,\n",
      "    \"humidity\": 87,\n",
      "    \"rainfall\": 0\n",
      "}\n"
     ]
    }
   ],
   "source": [
    "import requests\n",
    "import json\n",
    "\n",
    "# --- CONFIGURATION ---\n",
    "API_KEY = \"a280709224ba06033d34ab269232abad\"\n",
    "lat, lon = 18.5204, 73.8567  # Pune\n",
    "\n",
    "# --- Fetch current weather data (OpenWeather) ---\n",
    "current_url = f\"https://api.openweathermap.org/data/2.5/weather?lat={lat}&lon={lon}&appid={API_KEY}&units=metric\"\n",
    "current_resp = requests.get(current_url).json()\n",
    "\n",
    "# --- Fetch One Call API (OpenWeather) for better rainfall precision ---\n",
    "onecall_url = f\"https://api.openweathermap.org/data/3.0/onecall?lat={lat}&lon={lon}&appid={API_KEY}&units=metric\"\n",
    "onecall_resp = requests.get(onecall_url).json()\n",
    "\n",
    "# --- Fetch Open-Meteo rainfall data ---\n",
    "openmeteo_url = (\n",
    "    f\"https://api.open-meteo.com/v1/forecast?\"\n",
    "    f\"latitude={lat}&longitude={lon}&hourly=precipitation&current=precipitation\"\n",
    ")\n",
    "openmeteo_resp = requests.get(openmeteo_url).json()\n",
    "\n",
    "# --- Extract rainfall values from each source ---\n",
    "ow_rain = (\n",
    "    current_resp.get(\"rain\", {}).get(\"1h\")\n",
    "    or current_resp.get(\"rain\", {}).get(\"3h\")\n",
    "    or onecall_resp.get(\"hourly\", [{}])[0].get(\"rain\", {}).get(\"1h\")\n",
    "    or 0\n",
    ")\n",
    "\n",
    "# Open-Meteo gives rain in mm/h (precipitation)\n",
    "om_rain = (\n",
    "    openmeteo_resp.get(\"current\", {}).get(\"precipitation\")\n",
    "    or 0\n",
    ")\n",
    "\n",
    "# --- Choose the best rainfall source ---\n",
    "rainfall = ow_rain if ow_rain and ow_rain > 0 else om_rain\n",
    "\n",
    "# --- Validate OpenWeather data ---\n",
    "if \"main\" not in current_resp:\n",
    "    raise Exception(\"⚠️ Error fetching weather data. Check API key or connection.\")\n",
    "\n",
    "# --- Combine data into single dict ---\n",
    "weather = {\n",
    "    \"temperature\": current_resp[\"main\"][\"temp\"],\n",
    "    \"humidity\": current_resp[\"main\"][\"humidity\"],\n",
    "    \"rainfall\": round(rainfall, 2)\n",
    "}\n",
    "\n",
    "print(\"\\n🌦 Weather Data:\")\n",
    "print(json.dumps(weather, indent=4))\n"
   ]
  },
  {
   "cell_type": "code",
   "execution_count": 14,
   "id": "03185781-83ea-4f21-979f-b994195fc5f0",
   "metadata": {},
   "outputs": [
    {
     "ename": "SyntaxError",
     "evalue": "illegal target for annotation (376021834.py, line 5)",
     "output_type": "error",
     "traceback": [
      "  \u001b[36mCell\u001b[39m\u001b[36m \u001b[39m\u001b[32mIn[14]\u001b[39m\u001b[32m, line 5\u001b[39m\n\u001b[31m    \u001b[39m\u001b[31m\"rainfall\": current_resp.get(\"rain\", {}).get(\"1h\", current_resp.get(\"rain\", {}).get(\"3h\", 0))\u001b[39m\n    ^\n\u001b[31mSyntaxError\u001b[39m\u001b[31m:\u001b[39m illegal target for annotation\n"
     ]
    }
   ],
   "source": []
  },
  {
   "cell_type": "code",
   "execution_count": null,
   "id": "9c4726be-7719-4a09-89b2-c21b58042c4c",
   "metadata": {},
   "outputs": [],
   "source": []
  },
  {
   "cell_type": "code",
   "execution_count": null,
   "id": "ddf47460-99ff-4991-b156-5a7e0f6f8408",
   "metadata": {},
   "outputs": [],
   "source": []
  },
  {
   "cell_type": "code",
   "execution_count": null,
   "id": "8042aa4a-fc29-4f57-82e4-158cbcc12303",
   "metadata": {},
   "outputs": [],
   "source": [
    "# soil data can be done by this\n",
    "# soil_temp = 25\n",
    "# soil_moisture = 0.3\n",
    "\n",
    "# N = round(soil_moisture * 250, 2)\n",
    "# P = round(soil_temp * 5, 2)\n",
    "# K = round(soil_moisture * 300, 2)\n",
    "# pH = round(6.5 + (soil_temp - 25) * 0.02, 2)\n",
    "# fetching data by GPS "
   ]
  }
 ],
 "metadata": {
  "kernelspec": {
   "display_name": "Python 3 (ipykernel)",
   "language": "python",
   "name": "python3"
  },
  "language_info": {
   "codemirror_mode": {
    "name": "ipython",
    "version": 3
   },
   "file_extension": ".py",
   "mimetype": "text/x-python",
   "name": "python",
   "nbconvert_exporter": "python",
   "pygments_lexer": "ipython3",
   "version": "3.13.7"
  }
 },
 "nbformat": 4,
 "nbformat_minor": 5
}
